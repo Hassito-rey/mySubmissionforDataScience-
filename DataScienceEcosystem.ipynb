{
 "cells": [
  {
   "cell_type": "markdown",
   "id": "45c666e9",
   "metadata": {},
   "source": [
    "# Data Science Tools and Ecosystem\n",
    "\n",
    "In this notebook, Data Science Tools and Ecosystem are summarized."
   ]
  },
  {
   "cell_type": "markdown",
   "id": "9dfcf48e",
   "metadata": {},
   "source": [
    "Some of the popular langauges in data science are:\n",
    "1. Python\n",
    "2. R\n",
    "3. SQL"
   ]
  },
  {
   "cell_type": "markdown",
   "id": "e585321f",
   "metadata": {},
   "source": [
    "Some of the most commonly used libraries in data science are:\n",
    "1. Sklearn\n",
    "2. Python Pandas\n",
    "3. Matplotlib"
   ]
  },
  {
   "cell_type": "markdown",
   "id": "9bac9b91",
   "metadata": {},
   "source": [
    "| Data Science Tools |\n",
    "|--------------------|\n",
    "|Jupyter Notebook|\n",
    "|R-studio|\n",
    "|VS-code|"
   ]
  },
  {
   "cell_type": "markdown",
   "id": "fe25a526",
   "metadata": {},
   "source": [
    "### Below are a few examples of evaluating arithmetic expressions in python"
   ]
  },
  {
   "cell_type": "code",
   "execution_count": 2,
   "id": "00ccbe27",
   "metadata": {},
   "outputs": [
    {
     "data": {
      "text/plain": [
       "17"
      ]
     },
     "execution_count": 2,
     "metadata": {},
     "output_type": "execute_result"
    }
   ],
   "source": [
    "# This a simple arithmetic expression to mutiply then add integers\n",
    "(3*4)+5"
   ]
  },
  {
   "cell_type": "code",
   "execution_count": 3,
   "id": "328159be",
   "metadata": {},
   "outputs": [
    {
     "data": {
      "text/plain": [
       "3.3333333333333335"
      ]
     },
     "execution_count": 3,
     "metadata": {},
     "output_type": "execute_result"
    }
   ],
   "source": [
    "# This will convert 200 minutes to hours by diving by 60\n",
    "200/60"
   ]
  },
  {
   "cell_type": "markdown",
   "id": "86a0d673",
   "metadata": {},
   "source": [
    "**Objectives**\n",
    "* Jupyter as a Data Science tool\n",
    "* Github\n",
    "* R Language introduction"
   ]
  },
  {
   "cell_type": "markdown",
   "id": "c44618a3",
   "metadata": {},
   "source": [
    "## Author\n",
    "\n",
    "Muhammad Hassan"
   ]
  },
  {
   "cell_type": "code",
   "execution_count": null,
   "id": "eaf1244f",
   "metadata": {},
   "outputs": [],
   "source": []
  }
 ],
 "metadata": {
  "kernelspec": {
   "display_name": "Python [conda env:phys-env]",
   "language": "python",
   "name": "conda-env-phys-env-py"
  },
  "language_info": {
   "codemirror_mode": {
    "name": "ipython",
    "version": 3
   },
   "file_extension": ".py",
   "mimetype": "text/x-python",
   "name": "python",
   "nbconvert_exporter": "python",
   "pygments_lexer": "ipython3",
   "version": "3.10.12"
  }
 },
 "nbformat": 4,
 "nbformat_minor": 5
}
